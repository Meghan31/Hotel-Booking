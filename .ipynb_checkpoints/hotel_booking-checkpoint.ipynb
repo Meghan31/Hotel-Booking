{
 "cells": [
  {
   "cell_type": "code",
   "execution_count": null,
   "id": "bf9736a4",
   "metadata": {},
   "outputs": [],
   "source": [
    "import pandas as pd\n",
    "import numpy as np\n",
    "import matplotlib.pyplot as plt\n",
    "import seaborn as sns"
   ]
  },
  {
   "cell_type": "code",
   "execution_count": null,
   "id": "0b8e7fb9",
   "metadata": {
    "scrolled": true
   },
   "outputs": [],
   "source": [
    "df = pd.read_csv('hotel_bookings.csv')\n",
    "df"
   ]
  },
  {
   "cell_type": "code",
   "execution_count": null,
   "id": "e9bc2213",
   "metadata": {},
   "outputs": [],
   "source": [
    "df.shape"
   ]
  },
  {
   "cell_type": "code",
   "execution_count": null,
   "id": "c07b496d",
   "metadata": {},
   "outputs": [],
   "source": [
    "df.isna().sum()"
   ]
  },
  {
   "cell_type": "code",
   "execution_count": null,
   "id": "ab5d128b",
   "metadata": {},
   "outputs": [],
   "source": [
    "def rem_null(df):\n",
    "    df.fillna(0,inplace=True)\n",
    "    print(df.isna().sum())\n",
    "rem_null(df)"
   ]
  },
  {
   "cell_type": "code",
   "execution_count": null,
   "id": "b36ab329",
   "metadata": {},
   "outputs": [],
   "source": [
    "df.columns"
   ]
  },
  {
   "cell_type": "code",
   "execution_count": null,
   "id": "cc4de1ee",
   "metadata": {},
   "outputs": [],
   "source": [
    "ACB = ['adults', 'children', 'babies']\n",
    "for i in ACB:\n",
    "    print(f'{i} has unique value as {df[i].unique()}')"
   ]
  },
  {
   "cell_type": "code",
   "execution_count": null,
   "id": "ed45e668",
   "metadata": {},
   "outputs": [],
   "source": [
    "pd.set_option('display.max_columns',32)"
   ]
  },
  {
   "cell_type": "code",
   "execution_count": null,
   "id": "2ed8d9df",
   "metadata": {},
   "outputs": [],
   "source": [
    "filtereddata = (df['children']==0) & (df['adults']==0) & (df['babies']==0)\n",
    "df[filtereddata]"
   ]
  },
  {
   "cell_type": "code",
   "execution_count": null,
   "id": "0886486b",
   "metadata": {},
   "outputs": [],
   "source": [
    "data = df[~filtereddata]\n",
    "data"
   ]
  },
  {
   "cell_type": "code",
   "execution_count": null,
   "id": "675064ab",
   "metadata": {},
   "outputs": [],
   "source": [
    "df.columns"
   ]
  },
  {
   "cell_type": "code",
   "execution_count": null,
   "id": "975c2e9e",
   "metadata": {},
   "outputs": [],
   "source": []
  },
  {
   "cell_type": "markdown",
   "id": "41d6b22e",
   "metadata": {},
   "source": [
    "# Analysing Home country of guests"
   ]
  },
  {
   "cell_type": "code",
   "execution_count": null,
   "id": "d79bf033",
   "metadata": {},
   "outputs": [],
   "source": [
    "countrywise_data = pd.DataFrame(data,columns=['country','No of guests']).reset_index()"
   ]
  },
  {
   "cell_type": "code",
   "execution_count": null,
   "id": "79c96f54",
   "metadata": {},
   "outputs": [],
   "source": [
    "countrywise_data"
   ]
  },
  {
   "cell_type": "markdown",
   "id": "0a5e26a7",
   "metadata": {},
   "source": [
    "## Folium Map"
   ]
  },
  {
   "cell_type": "code",
   "execution_count": null,
   "id": "0570050c",
   "metadata": {},
   "outputs": [],
   "source": [
    "import folium\n",
    "from folium.plugins import HeatMap\n",
    "\n",
    "basemap = folium.Map(zoom_start=12)\n",
    "basemap.save(\"foliummap.html\", close_file=True)"
   ]
  },
  {
   "cell_type": "code",
   "execution_count": null,
   "id": "8b562d41",
   "metadata": {},
   "outputs": [],
   "source": [
    "basemap = folium.Map()\n",
    "\n",
    "basemap"
   ]
  },
  {
   "cell_type": "code",
   "execution_count": null,
   "id": "dfc5e942",
   "metadata": {},
   "outputs": [],
   "source": [
    "#plotly is a advanced label data visualisation library that is extensively used for deployment label visuals\n",
    "\n",
    "import plotly.express as px\n",
    "import plotly.offline as pyo\n",
    "import plotly.graph_objs as go\n",
    "# Set notebook mode to work in offline\n",
    "pyo.init_notebook_mode()"
   ]
  },
  {
   "cell_type": "markdown",
   "id": "d7ff75fc",
   "metadata": {},
   "source": [
    "## Pyplot Map"
   ]
  },
  {
   "cell_type": "code",
   "execution_count": null,
   "id": "722209dd",
   "metadata": {},
   "outputs": [],
   "source": [
    "map_cg = px.choropleth(countrywise_data,\n",
    "             locations = countrywise_data['country'],\n",
    "             color = countrywise_data['No of guests'],\n",
    "             color_continuous_scale=\"ylorrd\",\n",
    "             hover_name = countrywise_data['country'],\n",
    "             title = 'Nationality of Guests')\n",
    "map_cg.write_html(\"plotlymap.html\")\n",
    "map_cg.show()"
   ]
  },
  {
   "cell_type": "markdown",
   "id": "1c09bafa",
   "metadata": {},
   "source": [
    "## Non colored countries are not in data"
   ]
  },
  {
   "cell_type": "code",
   "execution_count": null,
   "id": "57333d15",
   "metadata": {},
   "outputs": [],
   "source": [
    "attenddata = data[data['is_canceled']==0]"
   ]
  },
  {
   "cell_type": "code",
   "execution_count": null,
   "id": "151522d5",
   "metadata": {},
   "outputs": [],
   "source": [
    "attenddata.columns"
   ]
  },
  {
   "cell_type": "code",
   "execution_count": null,
   "id": "87df5a1d",
   "metadata": {},
   "outputs": [],
   "source": [
    "plt.figure(figsize=(15,5))\n",
    "sns.boxplot(x='reserved_room_type',y='adr',hue='hotel',data=attenddata)\n",
    "plt.title('Price of room types per night &person')\n",
    "plt.xlabel('Room type')\n",
    "plt.ylabel('Price(Euro)')\n",
    "plt.legend()\n",
    "plt.show()\n"
   ]
  },
  {
   "cell_type": "markdown",
   "id": "a3ea90cb",
   "metadata": {},
   "source": [
    "### Blue = Resort hotel , Orange = City hotel\n",
    "\n",
    "1. for a blue box top line is 75th percentile data and middle line is 50th percentile data and below line is 25th percentile data\n",
    "\n",
    "2. The line perpendicular to out of the box has a top most line parallel to 75th percentile data that is 100th percentile data and the down most line is 0th percentile data\n",
    "\n",
    "#similarly for orange box\n",
    "\n",
    "3. The data points that we see above 100% line are high values or we can say outliers and datapoints below 0% line are low values or we can say outliers\n",
    "\n",
    "#### An outlier is a data point that is noticeably different from the rest\n",
    "\n",
    "#### Outliers are stragglers that are extremely high or extremely low values in a data set that can throw off your stats.\n",
    "\n",
    "### We can conclude from this that the best distribution of CITY HOTEL is almost tend to G room type && RESORT HOTEL is almost tend to H room type"
   ]
  },
  {
   "cell_type": "code",
   "execution_count": null,
   "id": "f42d247d",
   "metadata": {},
   "outputs": [],
   "source": []
  },
  {
   "cell_type": "markdown",
   "id": "ac21ea5d",
   "metadata": {},
   "source": [
    "# Analysing Prices of Hotels across year"
   ]
  },
  {
   "cell_type": "code",
   "execution_count": null,
   "id": "0bf1ba88",
   "metadata": {},
   "outputs": [],
   "source": [
    "data_rh = data[(data['hotel']=='Resort Hotel') & (data['is_canceled']==0)]\n",
    "data_ch = data[(data['hotel']=='City Hotel') & (data['is_canceled']==0)]"
   ]
  },
  {
   "cell_type": "code",
   "execution_count": null,
   "id": "f246c6e2",
   "metadata": {},
   "outputs": [],
   "source": [
    "data_rh.head(20)"
   ]
  },
  {
   "cell_type": "code",
   "execution_count": null,
   "id": "15f26f02",
   "metadata": {},
   "outputs": [],
   "source": [
    "resort_hotel = data_rh.groupby(['arrival_date_month'])['adr'].mean().reset_index()\n",
    "resort_hotel"
   ]
  },
  {
   "cell_type": "code",
   "execution_count": null,
   "id": "29366675",
   "metadata": {},
   "outputs": [],
   "source": [
    "city_hotel = data_ch.groupby(['arrival_date_month'])['adr'].mean().reset_index()\n",
    "city_hotel"
   ]
  },
  {
   "cell_type": "code",
   "execution_count": null,
   "id": "94131c0d",
   "metadata": {
    "scrolled": true
   },
   "outputs": [],
   "source": [
    "final = resort_hotel.merge(city_hotel,on='arrival_date_month')\n",
    "final.columns = ['month','price_resort','price_cityhotel']\n",
    "final"
   ]
  },
  {
   "cell_type": "code",
   "execution_count": null,
   "id": "bd21b1b1",
   "metadata": {},
   "outputs": [],
   "source": [
    "pip install sorted-months-weekdays\n",
    "pip install sort-dataframeby-monthorweek\n",
    "\n",
    "import sort_dataframeby_monthorweek as sd"
   ]
  },
  {
   "cell_type": "code",
   "execution_count": null,
   "id": "cfec597c",
   "metadata": {},
   "outputs": [],
   "source": [
    "def sort_data(df,colname):\n",
    "    return sd.Sort_Dataframeby_Month(df,colname)\n",
    "final = sort_data(final,'month')"
   ]
  },
  {
   "cell_type": "code",
   "execution_count": null,
   "id": "d74a0ef6",
   "metadata": {},
   "outputs": [],
   "source": [
    "px.line(final,x='month',y=['price_resort','price_cityhotel'],title='Room price per night over the month')"
   ]
  },
  {
   "cell_type": "markdown",
   "id": "80839e5f",
   "metadata": {},
   "source": [
    "#### We can conclude that the prices in Resort hotel in summer is pretty much High\n",
    "\n",
    "#### City hotel is much expensive in Spring and Autumn that Resorts\n",
    "\n",
    "#### Resort hotel costs less comparitively to City hotel excepth in Summer,but whereas City hotels are high in cost"
   ]
  },
  {
   "cell_type": "code",
   "execution_count": null,
   "id": "06056405",
   "metadata": {},
   "outputs": [],
   "source": []
  },
  {
   "cell_type": "markdown",
   "id": "3df6fbb4",
   "metadata": {},
   "source": [
    "# Analysing Demand Of hotels"
   ]
  },
  {
   "cell_type": "code",
   "execution_count": null,
   "id": "45f29170",
   "metadata": {},
   "outputs": [],
   "source": [
    "data_rh"
   ]
  },
  {
   "cell_type": "code",
   "execution_count": null,
   "id": "74bb2e41",
   "metadata": {},
   "outputs": [],
   "source": [
    "rush_rh = data_rh['arrival_date_month'].value_counts().reset_index()\n",
    "rush_rh.columns=['Month','No of guessts in resort']\n",
    "rush_rh"
   ]
  },
  {
   "cell_type": "code",
   "execution_count": null,
   "id": "47143377",
   "metadata": {},
   "outputs": [],
   "source": [
    "rush_ch = data_ch['arrival_date_month'].value_counts().reset_index()\n",
    "rush_ch.columns=['Month','No of guests in city hotel']\n",
    "rush_ch"
   ]
  },
  {
   "cell_type": "code",
   "execution_count": null,
   "id": "e40fc1e5",
   "metadata": {},
   "outputs": [],
   "source": [
    "rush = rush_ch.merge(rush_rh,on='Month')\n",
    "rush.columns = ['month','guests rush in city hotel','guests rush in resort']\n",
    "rush"
   ]
  },
  {
   "cell_type": "code",
   "execution_count": null,
   "id": "916c08d7",
   "metadata": {},
   "outputs": [],
   "source": [
    "rush = sort_data(rush,'month')"
   ]
  },
  {
   "cell_type": "code",
   "execution_count": null,
   "id": "10e803d1",
   "metadata": {},
   "outputs": [],
   "source": [
    "rush_graph = px.line(rush,x='month',y=['guests rush in resort','guests rush in city hotel'],title= 'No of guests in each month')\n",
    "rush_graph"
   ]
  },
  {
   "cell_type": "markdown",
   "id": "00b52279",
   "metadata": {},
   "source": [
    "#### For both Resort and City hotel the Guests are fewer in Winter\n",
    "#### Guests prefer City hotels in Summer\n",
    "#### City hotels get more guests every month compared to Resorts\n",
    "#### Peak time for both City hotels and Resorts is Summer"
   ]
  },
  {
   "cell_type": "code",
   "execution_count": null,
   "id": "bb04d374",
   "metadata": {},
   "outputs": [],
   "source": []
  },
  {
   "cell_type": "code",
   "execution_count": null,
   "id": "5493918f",
   "metadata": {},
   "outputs": [],
   "source": []
  },
  {
   "cell_type": "markdown",
   "id": "a0a1d003",
   "metadata": {},
   "source": [
    "## How long do people stay at the hotels?"
   ]
  },
  {
   "cell_type": "code",
   "execution_count": null,
   "id": "c9e454a6",
   "metadata": {},
   "outputs": [],
   "source": [
    "filter=data['is_canceled']==0\n",
    "clean_data=data[filter]"
   ]
  },
  {
   "cell_type": "code",
   "execution_count": null,
   "id": "664f71b2",
   "metadata": {},
   "outputs": [],
   "source": [
    "clean_data.head()"
   ]
  },
  {
   "cell_type": "code",
   "execution_count": null,
   "id": "4ba97542",
   "metadata": {},
   "outputs": [],
   "source": [
    "clean_data.columns\n"
   ]
  },
  {
   "cell_type": "code",
   "execution_count": null,
   "id": "1da04c57",
   "metadata": {},
   "outputs": [],
   "source": [
    "clean_data.head()"
   ]
  },
  {
   "cell_type": "code",
   "execution_count": null,
   "id": "21dcc906",
   "metadata": {},
   "outputs": [],
   "source": [
    "clean_data[\"total_nights\"] = clean_data[\"stays_in_weekend_nights\"] + clean_data[\"stays_in_week_nights\"]"
   ]
  },
  {
   "cell_type": "code",
   "execution_count": null,
   "id": "92325953",
   "metadata": {},
   "outputs": [],
   "source": [
    "stay=clean_data.groupby(['total_nights','hotel']).agg('count').reset_index()\n",
    "stay=stay.iloc[:,0:3]\n",
    "stay"
   ]
  },
  {
   "cell_type": "code",
   "execution_count": null,
   "id": "94f4bf81",
   "metadata": {},
   "outputs": [],
   "source": [
    "stay=stay.rename(columns={'is_canceled':'Number of stays'})\n",
    "stay"
   ]
  },
  {
   "cell_type": "code",
   "execution_count": null,
   "id": "1460b26a",
   "metadata": {},
   "outputs": [],
   "source": [
    "plt.figure(figsize=(20, 8))\n",
    "sns.barplot(x = \"total_nights\", y = \"Number of stays\" , hue=\"hotel\",\n",
    "            hue_order = [\"City Hotel\", \"Resort Hotel\"], data=stay)"
   ]
  },
  {
   "cell_type": "code",
   "execution_count": null,
   "id": "d261d715",
   "metadata": {},
   "outputs": [],
   "source": []
  },
  {
   "cell_type": "code",
   "execution_count": null,
   "id": "0ad5c86c",
   "metadata": {},
   "outputs": [],
   "source": []
  },
  {
   "cell_type": "markdown",
   "id": "5a0d5809",
   "metadata": {},
   "source": [
    "# CO-RELATION"
   ]
  },
  {
   "cell_type": "code",
   "execution_count": null,
   "id": "85821729",
   "metadata": {},
   "outputs": [],
   "source": [
    "data.head()"
   ]
  },
  {
   "cell_type": "code",
   "execution_count": null,
   "id": "8ee8ab30",
   "metadata": {},
   "outputs": [],
   "source": [
    "data.corr()"
   ]
  },
  {
   "cell_type": "code",
   "execution_count": null,
   "id": "71080e8c",
   "metadata": {},
   "outputs": [],
   "source": [
    "corelation = data.corr()['is_canceled']\n",
    "corelation"
   ]
  },
  {
   "cell_type": "code",
   "execution_count": null,
   "id": "6832fa57",
   "metadata": {},
   "outputs": [],
   "source": [
    "corelation.abs().sort_values(ascending=False)"
   ]
  },
  {
   "cell_type": "code",
   "execution_count": null,
   "id": "a89be025",
   "metadata": {},
   "outputs": [],
   "source": [
    "corelation.abs().sort_values(ascending=False)[1:]"
   ]
  },
  {
   "cell_type": "code",
   "execution_count": null,
   "id": "3cf0c04c",
   "metadata": {},
   "outputs": [],
   "source": [
    "data.columns"
   ]
  },
  {
   "cell_type": "markdown",
   "id": "b22ef65f",
   "metadata": {},
   "source": [
    "####    From this list it is apparent that lead_time, total_of_special_requests, required_car_parking_spaces, booking_changes and previous_cancellations are the 5 most important numerical features.\n",
    "####    However, to predict whether or not a booking will be canceled, the number of booking changes is a possible source of leakage, because this information can change over time.\n",
    "####    I will also not include days_in_waiting_list,booking changes  and arrival_date_year.\n",
    "\n",
    "####    The most important feature to exclude is the \"reservation_status\":"
   ]
  },
  {
   "cell_type": "code",
   "execution_count": null,
   "id": "a324552c",
   "metadata": {},
   "outputs": [],
   "source": [
    "data.groupby('is_canceled')['reservation_status'].value_counts()"
   ]
  },
  {
   "cell_type": "code",
   "execution_count": null,
   "id": "cda428e7",
   "metadata": {},
   "outputs": [],
   "source": [
    "list_not=['days_in_waiting_list','arrival_date_year']"
   ]
  },
  {
   "cell_type": "code",
   "execution_count": null,
   "id": "6d74f3ad",
   "metadata": {},
   "outputs": [],
   "source": [
    "num_features=[col for col in data.columns if data[col].dtype!='O' and col not in list_not]\n",
    "num_features"
   ]
  },
  {
   "cell_type": "code",
   "execution_count": null,
   "id": "b7b24b55",
   "metadata": {},
   "outputs": [],
   "source": [
    "cat_not=['arrival_date_year', 'assigned_room_type', 'booking_changes', 'reservation_status', 'country','days_in_waiting_list']"
   ]
  },
  {
   "cell_type": "code",
   "execution_count": null,
   "id": "57db3680",
   "metadata": {},
   "outputs": [],
   "source": [
    "cat_features=[col for col in data.columns if data[col].dtype=='O' and col not in cat_not]\n",
    "cat_features"
   ]
  },
  {
   "cell_type": "code",
   "execution_count": null,
   "id": "c51fc35c",
   "metadata": {},
   "outputs": [],
   "source": [
    "data_cat=data[cat_features]"
   ]
  },
  {
   "cell_type": "code",
   "execution_count": null,
   "id": "bd7df2ae",
   "metadata": {},
   "outputs": [],
   "source": [
    "data_cat.head()"
   ]
  },
  {
   "cell_type": "code",
   "execution_count": null,
   "id": "5d9de662",
   "metadata": {},
   "outputs": [],
   "source": []
  }
 ],
 "metadata": {
  "kernelspec": {
   "display_name": "Python 3 (ipykernel)",
   "language": "python",
   "name": "python3"
  },
  "language_info": {
   "codemirror_mode": {
    "name": "ipython",
    "version": 3
   },
   "file_extension": ".py",
   "mimetype": "text/x-python",
   "name": "python",
   "nbconvert_exporter": "python",
   "pygments_lexer": "ipython3",
   "version": "3.9.7"
  }
 },
 "nbformat": 4,
 "nbformat_minor": 5
}
