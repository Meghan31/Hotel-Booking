{
 "cells": [
  {
   "cell_type": "code",
   "execution_count": null,
   "id": "bf9736a4",
   "metadata": {},
   "outputs": [],
   "source": [
    "import pandas as pd\n",
    "import numpy as np\n",
    "import matplotlib.pyplot as plt\n",
    "import seaborn as sns\n",
    "\n",
    "\n",
    "import warnings\n",
    "from warnings import filterwarnings\n",
    "filterwarnings('ignore')"
   ]
  },
  {
   "cell_type": "code",
   "execution_count": null,
   "id": "0b8e7fb9",
   "metadata": {
    "scrolled": true
   },
   "outputs": [],
   "source": [
    "df = pd.read_csv('hotel_bookings.csv')\n",
    "df"
   ]
  },
  {
   "cell_type": "code",
   "execution_count": null,
   "id": "e9bc2213",
   "metadata": {},
   "outputs": [],
   "source": [
    "df.shape"
   ]
  },
  {
   "cell_type": "code",
   "execution_count": null,
   "id": "c07b496d",
   "metadata": {},
   "outputs": [],
   "source": [
    "df.isna().sum()"
   ]
  },
  {
   "cell_type": "code",
   "execution_count": null,
   "id": "ab5d128b",
   "metadata": {},
   "outputs": [],
   "source": [
    "def rem_null(df):\n",
    "    df.fillna(0,inplace=True)\n",
    "    print(df.isna().sum())\n",
    "rem_null(df)"
   ]
  },
  {
   "cell_type": "code",
   "execution_count": null,
   "id": "b36ab329",
   "metadata": {},
   "outputs": [],
   "source": [
    "df.columns"
   ]
  },
  {
   "cell_type": "code",
   "execution_count": null,
   "id": "cc4de1ee",
   "metadata": {},
   "outputs": [],
   "source": [
    "ACB = ['adults', 'children', 'babies']\n",
    "for i in ACB:\n",
    "    print(f'{i} has unique value as {df[i].unique()}')"
   ]
  },
  {
   "cell_type": "code",
   "execution_count": null,
   "id": "ed45e668",
   "metadata": {},
   "outputs": [],
   "source": [
    "pd.set_option('display.max_columns',32)"
   ]
  },
  {
   "cell_type": "code",
   "execution_count": null,
   "id": "2ed8d9df",
   "metadata": {},
   "outputs": [],
   "source": [
    "filtereddata = (df['children']==0) & (df['adults']==0) & (df['babies']==0)\n",
    "df[filtereddata]"
   ]
  },
  {
   "cell_type": "code",
   "execution_count": null,
   "id": "0886486b",
   "metadata": {},
   "outputs": [],
   "source": [
    "data = df[~filtereddata]\n",
    "data"
   ]
  },
  {
   "cell_type": "code",
   "execution_count": null,
   "id": "675064ab",
   "metadata": {},
   "outputs": [],
   "source": [
    "df.columns"
   ]
  },
  {
   "cell_type": "code",
   "execution_count": null,
   "id": "e58d1f34",
   "metadata": {},
   "outputs": [],
   "source": []
  },
  {
   "cell_type": "markdown",
   "id": "1f5f2376",
   "metadata": {},
   "source": [
    "# Analysing Home country of guests"
   ]
  },
  {
   "cell_type": "code",
   "execution_count": null,
   "id": "d79bf033",
   "metadata": {},
   "outputs": [],
   "source": [
    "countrywise_data = pd.DataFrame(data,columns=['country','No of guests']).reset_index()"
   ]
  },
  {
   "cell_type": "code",
   "execution_count": null,
   "id": "79c96f54",
   "metadata": {},
   "outputs": [],
   "source": [
    "countrywise_data"
   ]
  },
  {
   "cell_type": "markdown",
   "id": "0a5e26a7",
   "metadata": {},
   "source": [
    "## Folium Map"
   ]
  },
  {
   "cell_type": "code",
   "execution_count": null,
   "id": "0570050c",
   "metadata": {},
   "outputs": [],
   "source": [
    "import folium\n",
    "from folium.plugins import HeatMap\n",
    "\n",
    "basemap = folium.Map(zoom_start=12)\n",
    "basemap.save(\"foliummap.html\", close_file=True)"
   ]
  },
  {
   "cell_type": "code",
   "execution_count": null,
   "id": "8b562d41",
   "metadata": {},
   "outputs": [],
   "source": [
    "basemap = folium.Map()\n",
    "\n",
    "basemap"
   ]
  },
  {
   "cell_type": "code",
   "execution_count": null,
   "id": "dfc5e942",
   "metadata": {},
   "outputs": [],
   "source": [
    "#plotly is a advanced label data visualisation library that is extensively used for deployment label visuals\n",
    "\n",
    "import plotly.express as px\n"
   ]
  },
  {
   "cell_type": "code",
   "execution_count": null,
   "id": "6d23e7e5",
   "metadata": {},
   "outputs": [],
   "source": [
    "import plotly.offline as pyo\n",
    "import plotly.graph_objs as go\n",
    "# Set notebook mode to work in offline\n",
    "pyo.init_notebook_mode()"
   ]
  },
  {
   "cell_type": "markdown",
   "id": "d7ff75fc",
   "metadata": {},
   "source": [
    "## Pyplot Map"
   ]
  },
  {
   "cell_type": "code",
   "execution_count": null,
   "id": "722209dd",
   "metadata": {},
   "outputs": [],
   "source": [
    "map_cg = px.choropleth(countrywise_data,\n",
    "             locations = countrywise_data['country'],\n",
    "             color = countrywise_data['No of guests'],\n",
    "             color_continuous_scale=\"ylorrd\",\n",
    "             hover_name = countrywise_data['country'],\n",
    "             title = 'Nationality of Guests')\n",
    "map_cg.write_html(\"plotlymap.html\")\n",
    "map_cg.show()"
   ]
  },
  {
   "cell_type": "markdown",
   "id": "1c09bafa",
   "metadata": {},
   "source": [
    "## Non colored countries are not in data"
   ]
  },
  {
   "cell_type": "code",
   "execution_count": null,
   "id": "57333d15",
   "metadata": {},
   "outputs": [],
   "source": [
    "attenddata = data[data['is_canceled']==0]"
   ]
  },
  {
   "cell_type": "code",
   "execution_count": null,
   "id": "151522d5",
   "metadata": {},
   "outputs": [],
   "source": [
    "attenddata.columns"
   ]
  },
  {
   "cell_type": "code",
   "execution_count": null,
   "id": "87df5a1d",
   "metadata": {},
   "outputs": [],
   "source": [
    "plt.figure(figsize=(15,5))\n",
    "sns.boxplot(x='reserved_room_type',y='adr',hue='hotel',data=attenddata)\n",
    "plt.title('Price of room types per night &person')\n",
    "plt.xlabel('Room type')\n",
    "plt.ylabel('Price(Euro)')\n",
    "plt.legend()\n",
    "plt.show()\n"
   ]
  },
  {
   "cell_type": "markdown",
   "id": "a3ea90cb",
   "metadata": {},
   "source": [
    "### Blue = Resort hotel , Orange = City hotel\n",
    "\n",
    "1. for a blue box top line is 75th percentile data and middle line is 50th percentile data and below line is 25th percentile data\n",
    "\n",
    "2. The line perpendicular to out of the box has a top most line parallel to 75th percentile data that is 100th percentile data and the down most line is 0th percentile data\n",
    "\n",
    "#similarly for orange box\n",
    "\n",
    "3. The data points that we see above 100% line are high values or we can say outliers and datapoints below 0% line are low values or we can say outliers\n",
    "\n",
    "#### An outlier is a data point that is noticeably different from the rest\n",
    "\n",
    "#### Outliers are stragglers that are extremely high or extremely low values in a data set that can throw off your stats.\n",
    "\n",
    "### We can conclude from this that the best distribution of CITY HOTEL is almost tend to G room type && RESORT HOTEL is almost tend to H room type"
   ]
  },
  {
   "cell_type": "code",
   "execution_count": null,
   "id": "9f0384e7",
   "metadata": {},
   "outputs": [],
   "source": []
  },
  {
   "cell_type": "markdown",
   "id": "45180c61",
   "metadata": {},
   "source": [
    "# Analysing Prices of Hotels across year"
   ]
  },
  {
   "cell_type": "code",
   "execution_count": null,
   "id": "29b932b1",
   "metadata": {},
   "outputs": [],
   "source": [
    "data_rh = data[(data['hotel']=='Resort Hotel') & (data['is_canceled']==0)]\n",
    "data_ch = data[(data['hotel']=='City Hotel') & (data['is_canceled']==0)]"
   ]
  },
  {
   "cell_type": "code",
   "execution_count": null,
   "id": "45a3b1e7",
   "metadata": {},
   "outputs": [],
   "source": [
    "data_rh.head(20)"
   ]
  },
  {
   "cell_type": "code",
   "execution_count": null,
   "id": "99ca52b9",
   "metadata": {},
   "outputs": [],
   "source": [
    "resort_hotel = data_rh.groupby(['arrival_date_month'])['adr'].mean().reset_index()\n",
    "resort_hotel"
   ]
  },
  {
   "cell_type": "code",
   "execution_count": null,
   "id": "71435bb8",
   "metadata": {},
   "outputs": [],
   "source": [
    "city_hotel = data_ch.groupby(['arrival_date_month'])['adr'].mean().reset_index()\n",
    "city_hotel"
   ]
  },
  {
   "cell_type": "code",
   "execution_count": null,
   "id": "85f2511c",
   "metadata": {
    "scrolled": true
   },
   "outputs": [],
   "source": [
    "final = resort_hotel.merge(city_hotel,on='arrival_date_month')\n",
    "final.columns = ['month','price_resort','price_cityhotel']\n",
    "final"
   ]
  },
  {
   "cell_type": "code",
   "execution_count": null,
   "id": "c6bad542",
   "metadata": {},
   "outputs": [],
   "source": [
    "import sort_dataframeby_monthorweek as sd"
   ]
  },
  {
   "cell_type": "code",
   "execution_count": null,
   "id": "7fdd9aaa",
   "metadata": {},
   "outputs": [],
   "source": [
    "def sort_data(df,colname):\n",
    "    return sd.Sort_Dataframeby_Month(df,colname)\n",
    "final = sort_data(final,'month')"
   ]
  },
  {
   "cell_type": "markdown",
   "id": "4470ce7b",
   "metadata": {},
   "source": [
    "### To view open 'room-price.html' in files"
   ]
  },
  {
   "cell_type": "code",
   "execution_count": null,
   "id": "aa56b197",
   "metadata": {},
   "outputs": [],
   "source": [
    "room_price_over = px.line(final,x='month',y=['price_resort','price_cityhotel'],title='Room price per night over the month')\n",
    "room_price_over.write_html(\"room-price.html\")\n",
    "room_price_over.show()"
   ]
  },
  {
   "cell_type": "markdown",
   "id": "039f2ba9",
   "metadata": {},
   "source": [
    "#### We can conclude that the prices in Resort hotel in summer is pretty much High\n",
    "\n",
    "#### City hotel is much expensive in Spring and Autumn that Resorts\n",
    "\n",
    "#### Resort hotel costs less comparitively to City hotel excepth in Summer,but whereas City hotels are high in cost"
   ]
  },
  {
   "cell_type": "code",
   "execution_count": null,
   "id": "fbd77a3b",
   "metadata": {},
   "outputs": [],
   "source": []
  },
  {
   "cell_type": "markdown",
   "id": "635550ef",
   "metadata": {},
   "source": [
    "# Analysing Demand Of hotels"
   ]
  },
  {
   "cell_type": "code",
   "execution_count": null,
   "id": "2a8c49b2",
   "metadata": {},
   "outputs": [],
   "source": [
    "data_rh"
   ]
  },
  {
   "cell_type": "code",
   "execution_count": null,
   "id": "80ec8200",
   "metadata": {},
   "outputs": [],
   "source": [
    "rush_rh = data_rh['arrival_date_month'].value_counts().reset_index()\n",
    "rush_rh.columns=['Month','No of guessts in resort']\n",
    "rush_rh"
   ]
  },
  {
   "cell_type": "code",
   "execution_count": null,
   "id": "d9734bb7",
   "metadata": {},
   "outputs": [],
   "source": [
    "rush_ch = data_ch['arrival_date_month'].value_counts().reset_index()\n",
    "rush_ch.columns=['Month','No of guests in city hotel']\n",
    "rush_ch"
   ]
  },
  {
   "cell_type": "code",
   "execution_count": null,
   "id": "cbd20e73",
   "metadata": {},
   "outputs": [],
   "source": [
    "rush = rush_ch.merge(rush_rh,on='Month')\n",
    "rush.columns = ['month','guests rush in city hotel','guests rush in resort']\n",
    "rush"
   ]
  },
  {
   "cell_type": "code",
   "execution_count": null,
   "id": "3b550fa8",
   "metadata": {},
   "outputs": [],
   "source": [
    "rush = sort_data(rush,'month')\n",
    "rush"
   ]
  },
  {
   "cell_type": "markdown",
   "id": "55d0d128",
   "metadata": {},
   "source": [
    "### To view open 'rush-graph.html' in files"
   ]
  },
  {
   "cell_type": "code",
   "execution_count": null,
   "id": "ab4a698e",
   "metadata": {},
   "outputs": [],
   "source": [
    "rush_graph = px.line(rush,x='month',y=['guests rush in resort','guests rush in city hotel'],title= 'No of guests in each month')\n",
    "rush_graph.write_html(\"rush-graph.html\")\n",
    "rush_graph.show()"
   ]
  },
  {
   "cell_type": "markdown",
   "id": "d865b2c3",
   "metadata": {},
   "source": [
    "#### For both Resort and City hotel the Guests are fewer in Winter\n",
    "#### Guests prefer City hotels in Summer\n",
    "#### City hotels get more guests every month compared to Resorts\n",
    "#### Peak time for both City hotels and Resorts is Summer"
   ]
  },
  {
   "cell_type": "code",
   "execution_count": null,
   "id": "f777a57e",
   "metadata": {},
   "outputs": [],
   "source": []
  },
  {
   "cell_type": "code",
   "execution_count": null,
   "id": "041c7c5a",
   "metadata": {},
   "outputs": [],
   "source": []
  },
  {
   "cell_type": "markdown",
   "id": "260c2bdb",
   "metadata": {},
   "source": [
    "## How long do people stay at the hotels?"
   ]
  },
  {
   "cell_type": "code",
   "execution_count": null,
   "id": "4ed7684e",
   "metadata": {},
   "outputs": [],
   "source": [
    "filter=data['is_canceled']==0\n",
    "clean_data=data[filter]"
   ]
  },
  {
   "cell_type": "code",
   "execution_count": null,
   "id": "b4c7e07c",
   "metadata": {},
   "outputs": [],
   "source": [
    "clean_data.head()"
   ]
  },
  {
   "cell_type": "code",
   "execution_count": null,
   "id": "cb9107af",
   "metadata": {},
   "outputs": [],
   "source": [
    "clean_data.columns\n"
   ]
  },
  {
   "cell_type": "code",
   "execution_count": null,
   "id": "177c5742",
   "metadata": {},
   "outputs": [],
   "source": [
    "clean_data.head()"
   ]
  },
  {
   "cell_type": "code",
   "execution_count": null,
   "id": "5e67c2fc",
   "metadata": {},
   "outputs": [],
   "source": [
    "clean_data[\"total_nights\"] = clean_data[\"stays_in_weekend_nights\"] + clean_data[\"stays_in_week_nights\"]"
   ]
  },
  {
   "cell_type": "code",
   "execution_count": null,
   "id": "34ab63f9",
   "metadata": {},
   "outputs": [],
   "source": [
    "stay=clean_data.groupby(['total_nights','hotel']).agg('count').reset_index()\n",
    "stay=stay.iloc[:,0:3]\n",
    "stay"
   ]
  },
  {
   "cell_type": "code",
   "execution_count": null,
   "id": "5fd57b19",
   "metadata": {},
   "outputs": [],
   "source": [
    "stay=stay.rename(columns={'is_canceled':'Number of stays'})\n",
    "stay"
   ]
  },
  {
   "cell_type": "code",
   "execution_count": null,
   "id": "8eaca263",
   "metadata": {},
   "outputs": [],
   "source": [
    "plt.figure(figsize=(20, 8))\n",
    "sns.barplot(x = \"total_nights\", y = \"Number of stays\" , hue=\"hotel\",\n",
    "            hue_order = [\"City Hotel\", \"Resort Hotel\"], data=stay)"
   ]
  },
  {
   "cell_type": "code",
   "execution_count": null,
   "id": "202af104",
   "metadata": {},
   "outputs": [],
   "source": []
  },
  {
   "cell_type": "code",
   "execution_count": null,
   "id": "3ed32d61",
   "metadata": {},
   "outputs": [],
   "source": []
  },
  {
   "cell_type": "markdown",
   "id": "c6e66854",
   "metadata": {},
   "source": [
    "# CO-RELATION"
   ]
  },
  {
   "cell_type": "code",
   "execution_count": null,
   "id": "c466af14",
   "metadata": {},
   "outputs": [],
   "source": [
    "data.head()"
   ]
  },
  {
   "cell_type": "code",
   "execution_count": null,
   "id": "4190a4ef",
   "metadata": {},
   "outputs": [],
   "source": [
    "data.corr()"
   ]
  },
  {
   "cell_type": "code",
   "execution_count": null,
   "id": "2a3e9050",
   "metadata": {},
   "outputs": [],
   "source": [
    "corelation = data.corr()['is_canceled']\n",
    "corelation"
   ]
  },
  {
   "cell_type": "code",
   "execution_count": null,
   "id": "0b5e05b5",
   "metadata": {},
   "outputs": [],
   "source": [
    "corelation.abs().sort_values(ascending=False)"
   ]
  },
  {
   "cell_type": "code",
   "execution_count": null,
   "id": "2417482b",
   "metadata": {},
   "outputs": [],
   "source": [
    "corelation.abs().sort_values(ascending=False)[1:]"
   ]
  },
  {
   "cell_type": "code",
   "execution_count": null,
   "id": "54b508ea",
   "metadata": {},
   "outputs": [],
   "source": [
    "data.columns"
   ]
  },
  {
   "cell_type": "markdown",
   "id": "f6fb91bd",
   "metadata": {},
   "source": [
    "####    From this list it is apparent that lead_time, total_of_special_requests, required_car_parking_spaces, booking_changes and previous_cancellations are the 5 most important numerical features.\n",
    "####    However, to predict whether or not a booking will be canceled, the number of booking changes is a possible source of leakage, because this information can change over time.\n",
    "####    I will also not include days_in_waiting_list,booking changes  and arrival_date_year.\n",
    "\n",
    "####    The most important feature to exclude is the \"reservation_status\":"
   ]
  },
  {
   "cell_type": "code",
   "execution_count": null,
   "id": "5fa24eed",
   "metadata": {},
   "outputs": [],
   "source": [
    "data.groupby('is_canceled')['reservation_status'].value_counts()"
   ]
  },
  {
   "cell_type": "code",
   "execution_count": null,
   "id": "23e2dc54",
   "metadata": {},
   "outputs": [],
   "source": [
    "list_not=['days_in_waiting_list','arrival_date_year']"
   ]
  },
  {
   "cell_type": "code",
   "execution_count": null,
   "id": "6d655ba9",
   "metadata": {},
   "outputs": [],
   "source": [
    "num_features=[col for col in data.columns if data[col].dtype!='O' and col not in list_not]\n",
    "num_features"
   ]
  },
  {
   "cell_type": "code",
   "execution_count": null,
   "id": "9ae7cb19",
   "metadata": {},
   "outputs": [],
   "source": [
    "cat_not=['arrival_date_year', 'assigned_room_type', 'booking_changes', 'reservation_status', 'country','days_in_waiting_list']"
   ]
  },
  {
   "cell_type": "code",
   "execution_count": null,
   "id": "e8576cb6",
   "metadata": {},
   "outputs": [],
   "source": [
    "cat_features=[col for col in data.columns if data[col].dtype=='O' and col not in cat_not]\n",
    "cat_features"
   ]
  },
  {
   "cell_type": "code",
   "execution_count": null,
   "id": "1f6e023d",
   "metadata": {},
   "outputs": [],
   "source": [
    "data_cat=data[cat_features]"
   ]
  },
  {
   "cell_type": "code",
   "execution_count": null,
   "id": "ade1fac6",
   "metadata": {},
   "outputs": [],
   "source": [
    "data_cat.head()"
   ]
  },
  {
   "cell_type": "code",
   "execution_count": null,
   "id": "eb609a2c",
   "metadata": {},
   "outputs": [],
   "source": []
  },
  {
   "cell_type": "code",
   "execution_count": null,
   "id": "b4437b87",
   "metadata": {},
   "outputs": [],
   "source": [
    "data_cat['reservation_status_date'] = pd.to_datetime(data_cat['reservation_status_date'])"
   ]
  },
  {
   "cell_type": "code",
   "execution_count": null,
   "id": "a3da7b29",
   "metadata": {},
   "outputs": [],
   "source": [
    "data_cat['year'] = data_cat['reservation_status_date'].dt.year\n",
    "data_cat['month'] = data_cat['reservation_status_date'].dt.month\n",
    "data_cat['day'] = data_cat['reservation_status_date'].dt.day"
   ]
  },
  {
   "cell_type": "code",
   "execution_count": null,
   "id": "6f49ec3f",
   "metadata": {},
   "outputs": [],
   "source": [
    "data_cat.drop('reservation_status_date',axis=1,inplace=True)"
   ]
  },
  {
   "cell_type": "code",
   "execution_count": null,
   "id": "d45198a1",
   "metadata": {},
   "outputs": [],
   "source": [
    "data_cat['cancellation'] = data['is_canceled']\n",
    "data_cat.head()"
   ]
  },
  {
   "cell_type": "code",
   "execution_count": null,
   "id": "f173821f",
   "metadata": {},
   "outputs": [],
   "source": []
  },
  {
   "cell_type": "markdown",
   "id": "a38bfeb2",
   "metadata": {},
   "source": [
    "# Handelling Categorical data"
   ]
  },
  {
   "cell_type": "markdown",
   "id": "76762b0b",
   "metadata": {},
   "source": [
    " ## Mean Encoding"
   ]
  },
  {
   "cell_type": "code",
   "execution_count": null,
   "id": "cfc5d8e6",
   "metadata": {},
   "outputs": [],
   "source": [
    "cols = data_cat.columns[0:8]\n",
    "cols"
   ]
  },
  {
   "cell_type": "code",
   "execution_count": null,
   "id": "51db4e4c",
   "metadata": {},
   "outputs": [],
   "source": [
    "for col in cols:\n",
    "    dict = data_cat.groupby([col])['cancellation'].mean().to_dict()\n",
    "    data_cat[col] = data_cat[col].map(dict)"
   ]
  },
  {
   "cell_type": "code",
   "execution_count": null,
   "id": "e00d2c10",
   "metadata": {},
   "outputs": [],
   "source": [
    "data_cat"
   ]
  },
  {
   "cell_type": "code",
   "execution_count": null,
   "id": "63159f99",
   "metadata": {},
   "outputs": [],
   "source": []
  },
  {
   "cell_type": "code",
   "execution_count": null,
   "id": "417803e7",
   "metadata": {},
   "outputs": [],
   "source": [
    "dataframe = pd.concat([data_cat,data[num_features]],axis=1)\n",
    "dataframe.drop('cancellation',axis=1,inplace = True)\n",
    "dataframe"
   ]
  },
  {
   "cell_type": "code",
   "execution_count": null,
   "id": "a7fb00ad",
   "metadata": {},
   "outputs": [],
   "source": []
  },
  {
   "cell_type": "markdown",
   "id": "a526f14a",
   "metadata": {},
   "source": [
    "## Handelling Outliers"
   ]
  },
  {
   "cell_type": "code",
   "execution_count": null,
   "id": "2be3e571",
   "metadata": {},
   "outputs": [],
   "source": []
  },
  {
   "cell_type": "code",
   "execution_count": null,
   "id": "93e99fa3",
   "metadata": {},
   "outputs": [],
   "source": [
    "#distribution plot\n",
    "\n",
    "sns.distplot(dataframe['lead_time'])\n",
    "plt.show()"
   ]
  },
  {
   "cell_type": "markdown",
   "id": "24108def",
   "metadata": {},
   "source": [
    "### ->The outqueued data are Outliers\n",
    "\n",
    "### -> So that we take the log values of 'lead_time"
   ]
  },
  {
   "cell_type": "code",
   "execution_count": null,
   "id": "9c85b6d5",
   "metadata": {},
   "outputs": [],
   "source": [
    "\n",
    "def handle_outliers(col):\n",
    "    dataframe[col] = np.log1p(dataframe[col])"
   ]
  },
  {
   "cell_type": "code",
   "execution_count": null,
   "id": "fcdce2f5",
   "metadata": {},
   "outputs": [],
   "source": [
    "handle_outliers('lead_time')"
   ]
  },
  {
   "cell_type": "code",
   "execution_count": null,
   "id": "864f294b",
   "metadata": {},
   "outputs": [],
   "source": [
    "sns.distplot(dataframe['lead_time'])\n",
    "plt.show()"
   ]
  },
  {
   "cell_type": "code",
   "execution_count": null,
   "id": "7efa9c13",
   "metadata": {},
   "outputs": [],
   "source": [
    "#adr"
   ]
  },
  {
   "cell_type": "code",
   "execution_count": null,
   "id": "c5b4ac4b",
   "metadata": {},
   "outputs": [],
   "source": [
    "sns.distplot(dataframe['adr'])\n",
    "plt.show()"
   ]
  },
  {
   "cell_type": "code",
   "execution_count": null,
   "id": "2c5b2196",
   "metadata": {},
   "outputs": [],
   "source": [
    "handle_outliers('adr')"
   ]
  },
  {
   "cell_type": "code",
   "execution_count": null,
   "id": "2f7025d8",
   "metadata": {},
   "outputs": [],
   "source": [
    "sns.distplot(dataframe['adr'].dropna())\n",
    "plt.show()\n",
    "#dropna here is used for missing value"
   ]
  }
 ],
 "metadata": {
  "kernelspec": {
   "display_name": "Python 3 (ipykernel)",
   "language": "python",
   "name": "python3"
  },
  "language_info": {
   "codemirror_mode": {
    "name": "ipython",
    "version": 3
   },
   "file_extension": ".py",
   "mimetype": "text/x-python",
   "name": "python",
   "nbconvert_exporter": "python",
   "pygments_lexer": "ipython3",
   "version": "3.9.7"
  }
 },
 "nbformat": 4,
 "nbformat_minor": 5
}
